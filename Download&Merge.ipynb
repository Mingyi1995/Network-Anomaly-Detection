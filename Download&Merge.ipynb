{
 "cells": [
  {
   "cell_type": "code",
   "execution_count": 1,
   "metadata": {},
   "outputs": [],
   "source": [
    "import pandas as pd\n",
    "import datetime\n",
    "import urllib\n",
    "import os\n",
    "import glob"
   ]
  },
  {
   "cell_type": "code",
   "execution_count": 6,
   "metadata": {},
   "outputs": [
    {
     "name": "stdout",
     "output_type": "stream",
     "text": [
      "1\n",
      "2\n",
      "3\n",
      "4\n",
      "5\n",
      "6\n",
      "7\n",
      "8\n",
      "9\n",
      "10\n",
      "11\n",
      "12\n"
     ]
    }
   ],
   "source": [
    "for i in range(1,13):\n",
    "    for j in ['fhv','green','yellow']\n",
    "        if len(str(i)) == 1:\n",
    "            urllib.request.urlretrieve('https://s3.amazonaws.com/nyc-tlc/trip+data/%j_tripdata_2018-0%s.csv'%(j,i),'transportation/NewYork/%j_tripdata_2018-0%s.csv'%(j,i))\n",
    "        elif len(str(i)) == 2:\n",
    "            urllib.request.urlretrieve('https://s3.amazonaws.com/nyc-tlc/trip+data/%j_tripdata_2018-%s.csv'%(j,i),'transportation/NewYork/%j_tripdata_2018-%s.csv'%(j,i))\n",
    "        print(j,i)"
   ]
  },
  {
   "cell_type": "markdown",
   "metadata": {},
   "source": [
    "### Writte different months taxi data into one csv file"
   ]
  },
  {
   "cell_type": "code",
   "execution_count": 44,
   "metadata": {},
   "outputs": [
    {
     "name": "stdout",
     "output_type": "stream",
     "text": [
      "transportation/NewYork/green_tripdata_2017-08.csv\n"
     ]
    },
    {
     "data": {
      "text/plain": [
       "Index(['VendorID', 'tpep_pickup_datetime', 'tpep_dropoff_datetime',\n",
       "       'passenger_count', 'trip_distance', 'RatecodeID', 'store_and_fwd_flag',\n",
       "       'PULocationID', 'DOLocationID', 'payment_type', 'fare_amount', 'extra',\n",
       "       'mta_tax', 'tip_amount', 'tolls_amount', 'improvement_surcharge',\n",
       "       'total_amount'],\n",
       "      dtype='object')"
      ]
     },
     "execution_count": 44,
     "metadata": {},
     "output_type": "execute_result"
    }
   ],
   "source": [
    "df = pd.read_csv(glob.glob('transportation/NewYork/*.csv')[2],nrows=100) \n",
    "print(glob.glob('transportation/NewYork/*.csv')[1])\n",
    "df.columns"
   ]
  },
  {
   "cell_type": "code",
   "execution_count": null,
   "metadata": {},
   "outputs": [],
   "source": [
    "df = pd.read_csv(glob.glob('transportation/NewYork/*.csv')[0])  \n",
    "df['Pickup_DateTime'] = pd.to_datetime(df['Pickup_DateTime'])\n",
    "df['Date'] = df['Pickup_DateTime'].dt.strftime('%m/%d/%Y')\n",
    "df['PassengerAmount'] = 1\n",
    "df['PickupLocationID'] = df['PUlocationID']\n",
    "df['DropoffLocationID'] = df['DOlocationID']\n",
    "df['flag'] = (glob.glob('transportation/NewYork/*.csv')[0]).split('/')[2].split('_')[0]\n",
    "df = df[['Date','PickupLocationID','DropoffLocationID','PassengerAmount']]\n",
    "df.to_csv('transportation/NewYork/compacted/NewYork_Taxi.csv',index=False)\n",
    "\n",
    "for i in glob.glob('transportation/NewYork/*.csv')[1:]:\n",
    "    print(i)\n",
    "    df = pd.read_csv(i)\n",
    "    if str(i).split('/')[2].split('_')[0] == 'yellow':\n",
    "        df = df.dropna(subset=['tpep_pickup_datetime','PULocationID', 'DOLocationID'])\n",
    "        #no zone name is numbered as 0 and 264, 265 refer to NA\n",
    "        df = df[(df['PULocationID']!=0)&(df['DOLocationID']!=0)]\n",
    "        df = df[(df['PULocationID']!=264)&(df['DOLocationID']!=264)]\n",
    "        df = df[(df['PULocationID']!=265)&(df['DOLocationID']!=265)]\n",
    "        df['tpep_pickup_datetime'] = pd.to_datetime(df['tpep_pickup_datetime'])\n",
    "        df['Date'] = df['tpep_pickup_datetime'].dt.strftime('%m/%d/%Y')\n",
    "        df['PassengerAmount'] = df['passenger_count']\n",
    "        df['PickupLocationID'] = df['PULocationID']\n",
    "        df['DropoffLocationID'] = df['DOLocationID']\n",
    "    elif str(i).split('/')[2].split('_')[0] == 'green':\n",
    "        df = df.dropna(subset=['lpep_pickup_datetime','PULocationID', 'DOLocationID'])\n",
    "        df = df[(df['PULocationID']!=0)&(df['DOLocationID']!=0)]\n",
    "        df = df[(df['PULocationID']!=264)&(df['DOLocationID']!=264)]\n",
    "        df = df[(df['PULocationID']!=265)&(df['DOLocationID']!=265)]\n",
    "        df['lpep_pickup_datetime'] = pd.to_datetime(df['lpep_pickup_datetime'])\n",
    "        df['Date'] = df['lpep_pickup_datetime'].dt.strftime('%m/%d/%Y')\n",
    "        df['PassengerAmount'] = df['passenger_count']\n",
    "        df['PickupLocationID'] = df['PULocationID']\n",
    "        df['DropoffLocationID'] = df['DOLocationID']\n",
    "    elif str(i).split('/')[2].split('_')[0] == 'fhv':\n",
    "        df = df.dropna(subset=['Pickup_DateTime','PUlocationID', 'DOlocationID'])\n",
    "        df = df[(df['PUlocationID']!=0)&(df['DOlocationID']!=0)]\n",
    "        df = df[(df['PUlocationID']!=264)&(df['DOlocationID']!=264)]\n",
    "        df = df[(df['PUlocationID']!=265)&(df['DOlocationID']!=265)]\n",
    "        df['Pickup_DateTime'] = pd.to_datetime(df['Pickup_DateTime'])\n",
    "        df['Date'] = df['Pickup_DateTime'].dt.strftime('%m/%d/%Y')\n",
    "        df['PassengerAmount'] = 1\n",
    "        df['PickupLocationID'] = df['PUlocationID']\n",
    "        df['DropoffLocationID'] = df['DOlocationID']\n",
    "    df['flag'] = str(i).split('/')[2].split('_')[0]\n",
    "    df = df[['Date','PickupLocationID','DropoffLocationID','PassengerAmount']]\n",
    "    df.to_csv('transportation/NewYork/compacted/NewYork_Taxi.csv',index=False, header=False, mode='a+')"
   ]
  },
  {
   "cell_type": "code",
   "execution_count": null,
   "metadata": {},
   "outputs": [],
   "source": []
  }
 ],
 "metadata": {
  "kernelspec": {
   "display_name": "Python 3",
   "language": "python",
   "name": "python3"
  },
  "language_info": {
   "codemirror_mode": {
    "name": "ipython",
    "version": 3
   },
   "file_extension": ".py",
   "mimetype": "text/x-python",
   "name": "python",
   "nbconvert_exporter": "python",
   "pygments_lexer": "ipython3",
   "version": "3.7.1"
  }
 },
 "nbformat": 4,
 "nbformat_minor": 2
}
