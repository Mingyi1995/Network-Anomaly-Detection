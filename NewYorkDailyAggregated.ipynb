{
 "cells": [
  {
   "cell_type": "code",
   "execution_count": 23,
   "metadata": {},
   "outputs": [],
   "source": [
    "# import libraries\n",
    "\n",
    "import pandas as pd\n",
    "\n",
    "import warnings\n",
    "warnings.filterwarnings('ignore')"
   ]
  },
  {
   "cell_type": "code",
   "execution_count": 24,
   "metadata": {},
   "outputs": [],
   "source": [
    "subway_data ='NewYork_Taxi.csv'"
   ]
  },
  {
   "cell_type": "markdown",
   "metadata": {},
   "source": [
    "## 1.1: Import Transportation Data"
   ]
  },
  {
   "cell_type": "code",
   "execution_count": 11,
   "metadata": {},
   "outputs": [],
   "source": [
    "size = 10 ** 5"
   ]
  },
  {
   "cell_type": "code",
   "execution_count": 30,
   "metadata": {},
   "outputs": [
    {
     "name": "stdout",
     "output_type": "stream",
     "text": [
      "Iteration 2\n",
      "Done\n"
     ]
    }
   ],
   "source": [
    "# import data\n",
    "df_grouped = pd.DataFrame()\n",
    "Num = 1\n",
    "# use chunk to limit to rows read in RAM for each time\n",
    "for chunck in pd.read_csv(subway_data, chunksize=size):\n",
    "    Num += 1\n",
    "    chunck.dropna(inplace=True)\n",
    "    chunck['Trip'] = 1\n",
    "    chunck['PickupLocationID'] = chunck['PickupLocationID'].astype(int)\n",
    "    chunck['DropoffLocationID'] = chunck['DropoffLocationID'].astype(int)\n",
    "    df_grouped_chunck = pd.DataFrame(chunck.groupby(['Date', 'PickupLocationID', 'DropoffLocationID'],as_index = False)['Trip',].sum()).sort_index()\n",
    "    df_grouped_chunck.to_csv('NewYorkEdgeDatewiseAggregated.csv', index=False,header=False,mode='a+')\n",
    "    print('Iteration', Num)\n",
    "    break\n",
    "print('Done')"
   ]
  }
 ],
 "metadata": {
  "kernelspec": {
   "display_name": "Python 3",
   "language": "python",
   "name": "python3"
  },
  "language_info": {
   "codemirror_mode": {
    "name": "ipython",
    "version": 3
   },
   "file_extension": ".py",
   "mimetype": "text/x-python",
   "name": "python",
   "nbconvert_exporter": "python",
   "pygments_lexer": "ipython3",
   "version": "3.6.7"
  }
 },
 "nbformat": 4,
 "nbformat_minor": 2
}
